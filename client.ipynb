{
 "cells": [
  {
   "cell_type": "code",
   "execution_count": null,
   "metadata": {},
   "outputs": [],
   "source": [
    "from api import UnrealEngine\n",
    "from random import random\n",
    "import time"
   ]
  },
  {
   "cell_type": "code",
   "execution_count": null,
   "metadata": {},
   "outputs": [],
   "source": [
    "api = UnrealEngine()\n",
    "api.start_client()"
   ]
  },
  {
   "cell_type": "code",
   "execution_count": null,
   "metadata": {},
   "outputs": [],
   "source": [
    "# ----- DO NOT CHANGE THE CODE -----\n",
    "def text_example(n):\n",
    "    data = {\n",
    "        \"action\": \"add_object\",\n",
    "        \"location\": {\n",
    "            \"x\": random() * 500,\n",
    "            \"y\": random() * 500,\n",
    "            \"z\": random() * 500\n",
    "        },\n",
    "        \"rotation\": {\n",
    "            \"pitch\": random() * 500,\n",
    "            \"yaw\": random() * 500,\n",
    "            \"roll\": random() * 500\n",
    "        },\n",
    "        \"material_path\": \"Material'/Game/StarterContent/Materials/M_Brick_Clay_New.M_Brick_Clay_New'\",\n",
    "        \"mesh_path\": \"StaticMesh'/Game/StarterContent/Shapes/Shape_Pipe_180.Shape_Pipe_180'\",\n",
    "        \"physics\": False\n",
    "    }\n",
    "    object_id = api.send_data(data)\n",
    "    print(f\"Object ID should be {n}. Object_id = {object_id}\")\n",
    "    return n + 1"
   ]
  },
  {
   "cell_type": "code",
   "execution_count": null,
   "metadata": {},
   "outputs": [],
   "source": [
    "n = 0\n",
    "n = text_example(n)\n",
    "time.sleep(0.5)\n",
    "\n",
    "for i in range(10):\n",
    "    n = text_example(n)\n",
    "    time.sleep(0.5)"
   ]
  }
 ],
 "metadata": {
  "kernelspec": {
   "display_name": "base",
   "language": "python",
   "name": "python3"
  },
  "language_info": {
   "codemirror_mode": {
    "name": "ipython",
    "version": 3
   },
   "file_extension": ".py",
   "mimetype": "text/x-python",
   "name": "python",
   "nbconvert_exporter": "python",
   "pygments_lexer": "ipython3",
   "version": "3.10.14"
  }
 },
 "nbformat": 4,
 "nbformat_minor": 2
}
